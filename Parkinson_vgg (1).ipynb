{
  "cells": [
    {
      "cell_type": "code",
      "execution_count": null,
      "metadata": {
        "colab": {
          "base_uri": "https://localhost:8080/"
        },
        "id": "bbe79f5e",
        "outputId": "c5b6a18b-ba76-4231-fb65-30f2da8b2bd4"
      },
      "outputs": [
        {
          "output_type": "stream",
          "name": "stdout",
          "text": [
            "Mounted at /content/drive\n"
          ]
        }
      ],
      "source": [
        "from google.colab import drive\n",
        "drive.mount('/content/drive')"
      ],
      "id": "bbe79f5e"
    },
    {
      "cell_type": "code",
      "execution_count": null,
      "metadata": {
        "id": "33e6d822"
      },
      "outputs": [],
      "source": [
        "!unrar x \"/content/drive/MyDrive/Dataset_gauss.rar\" \"/content/drive/MyDrive/Data\""
      ],
      "id": "33e6d822"
    },
    {
      "cell_type": "code",
      "execution_count": null,
      "metadata": {
        "id": "0440e9b9"
      },
      "outputs": [],
      "source": [
        "!nvidia-smi"
      ],
      "id": "0440e9b9"
    },
    {
      "cell_type": "code",
      "execution_count": null,
      "metadata": {
        "id": "510f289c"
      },
      "outputs": [],
      "source": [
        "import numpy as np\n",
        "import pandas as pd\n",
        "import tensorflow as tf\n",
        "from tensorflow import keras\n",
        "\n",
        "from imutils import paths\n",
        "import random\n",
        "import shutil\n",
        "import os"
      ],
      "id": "510f289c"
    },
    {
      "cell_type": "code",
      "execution_count": null,
      "metadata": {
        "id": "39f503fb"
      },
      "outputs": [],
      "source": [
        "BASE_PATH = \"/content/drive/MyDrive/Park_gauss_vgg_new\"\n",
        "\n",
        "TRAIN_PATH = os.path.sep.join([BASE_PATH, \"training\"])\n",
        "VAL_PATH = os.path.sep.join([BASE_PATH, \"validation\"])"
      ],
      "id": "39f503fb"
    },
    {
      "cell_type": "code",
      "execution_count": null,
      "metadata": {
        "id": "a88b869c"
      },
      "outputs": [],
      "source": [
        "imagePaths = list(paths.list_images(\"/content/drive/MyDrive/Data/Dataset_gauss\"))\n",
        "random.seed(42)\n",
        "random.shuffle(imagePaths)\n",
        "\n",
        "# compute the training and testing split\n",
        "i = int(len(imagePaths) * 0.85)\n",
        "trainPaths = imagePaths[:i]\n",
        "valPaths = imagePaths[i:]\n",
        "\n",
        "# define the datasets that we'll be building\n",
        "datasets = [\n",
        "\t(\"training\", trainPaths, TRAIN_PATH),\n",
        "\t(\"validation\", valPaths, VAL_PATH)]"
      ],
      "id": "a88b869c"
    },
    {
      "cell_type": "code",
      "execution_count": null,
      "metadata": {
        "colab": {
          "base_uri": "https://localhost:8080/"
        },
        "id": "bd2ca961",
        "outputId": "3dcd51fa-bee9-4ec2-ede1-eb94a4e7a301"
      },
      "outputs": [
        {
          "name": "stdout",
          "output_type": "stream",
          "text": [
            "[INFO] building 'training' split\n",
            "[INFO] 'creating /content/drive/MyDrive/Park_gauss_vgg_new/training' directory\n",
            "[INFO] 'creating /content/drive/MyDrive/Park_gauss_vgg_new/training/PD_gauss' directory\n",
            "[INFO] 'creating /content/drive/MyDrive/Park_gauss_vgg_new/training/HC_gauss' directory\n",
            "[INFO] building 'validation' split\n",
            "[INFO] 'creating /content/drive/MyDrive/Park_gauss_vgg_new/validation' directory\n",
            "[INFO] 'creating /content/drive/MyDrive/Park_gauss_vgg_new/validation/HC_gauss' directory\n",
            "[INFO] 'creating /content/drive/MyDrive/Park_gauss_vgg_new/validation/PD_gauss' directory\n"
          ]
        }
      ],
      "source": [
        "for (dType, imagePaths, baseOutput) in datasets:\n",
        "\t# show which data split we are creating\n",
        "\tprint(\"[INFO] building '{}' split\".format(dType))\n",
        "\n",
        "\t# if the output base output directory does not exist, create it\n",
        "\tif not os.path.exists(baseOutput):\n",
        "\t\tprint(\"[INFO] 'creating {}' directory\".format(baseOutput))\n",
        "\t\tos.makedirs(baseOutput)\n",
        "\n",
        "\t# loop over the input image paths\n",
        "\tfor inputPath in imagePaths:\n",
        "\t\t# extract the filename of the input image along with its\n",
        "\t\t# corresponding class label\n",
        "\t\tfilename = inputPath.split(os.path.sep)[-1]\n",
        "\t\tlabel = inputPath.split(os.path.sep)[-2]\n",
        "\n",
        "\t\t# build the path to the label directory\n",
        "\t\tlabelPath = os.path.sep.join([baseOutput, label])\n",
        "\n",
        "\t\t# if the label output directory does not exist, create it\n",
        "\t\tif not os.path.exists(labelPath):\n",
        "\t\t\tprint(\"[INFO] 'creating {}' directory\".format(labelPath))\n",
        "\t\t\tos.makedirs(labelPath)\n",
        "\n",
        "\t\t# construct the path to the destination image and then copy\n",
        "\t\t# the image itself\n",
        "\t\tp = os.path.sep.join([labelPath, filename])\n",
        "\t\tshutil.copy2(inputPath, p)\n",
        "        \n",
        "\n",
        "        \n",
        "# print(\"Training:\")\n",
        "# print(\"Images belonging to HC: \",len(os.listdir(\"C:\\\\Users\\\\kksat\\\\Desktop\\\\mini project\\\\Park_gauss_vgg\\\\training\\\\HC\\\\\")))\n",
        "# print(\"Images belonging to PD: \",len(os.listdir(\"C:\\\\Users\\\\kksat\\\\Desktop\\\\mini project\\\\Park_gauss_vgg\\\\training\\\\PD\\\\\")))\n",
        "# print(\"Validation:\")\n",
        "# print(\"Images belonging to HC: \",len(os.listdir(\"C:\\\\Users\\\\kksat\\\\Desktop\\\\mini project\\\\Park_gauss_vgg\\\\validation\\\\HC\\\\\")))\n",
        "# print(\"Images belonging to PD: \",len(os.listdir(\"C:\\\\Users\\\\kksat\\\\Desktop\\\\mini project\\\\Park_gauss_vgg\\\\validation\\\\PD\\\\\")))"
      ],
      "id": "bd2ca961"
    },
    {
      "cell_type": "code",
      "execution_count": null,
      "metadata": {
        "id": "a66cd4a9"
      },
      "outputs": [],
      "source": [
        "from tensorflow.keras.preprocessing.image import ImageDataGenerator\n",
        "\n",
        "trainAug = ImageDataGenerator(\n",
        "\trotation_range=25,\n",
        "\tzoom_range=0.1,\n",
        "\twidth_shift_range=0.1,\n",
        "\theight_shift_range=0.1,\n",
        "\tshear_range=0.2,\n",
        "\thorizontal_flip=True,\n",
        "\tfill_mode=\"nearest\")\n",
        "\n",
        "valAug = ImageDataGenerator()"
      ],
      "id": "a66cd4a9"
    },
    {
      "cell_type": "code",
      "execution_count": null,
      "metadata": {
        "colab": {
          "base_uri": "https://localhost:8080/"
        },
        "id": "523027fa",
        "outputId": "80a5812c-ebb4-4d13-b2fd-f2d666cf30e6"
      },
      "outputs": [
        {
          "name": "stdout",
          "output_type": "stream",
          "text": [
            "Found 6813 images belonging to 2 classes.\n",
            "Found 1203 images belonging to 2 classes.\n"
          ]
        },
        {
          "data": {
            "text/plain": [
              "6813"
            ]
          },
          "execution_count": 20,
          "metadata": {},
          "output_type": "execute_result"
        }
      ],
      "source": [
        "BS=64\n",
        "\n",
        "trainGen = trainAug.flow_from_directory(\n",
        "\tTRAIN_PATH,\n",
        "\tclass_mode=\"categorical\",\n",
        "\ttarget_size=(256, 256),\n",
        "\tcolor_mode=\"rgb\",\n",
        "\tshuffle=True,\n",
        "\tbatch_size=BS)\n",
        "\n",
        "# initialize the validation generator\n",
        "valGen = valAug.flow_from_directory(\n",
        "\tVAL_PATH,\n",
        "\tclass_mode=\"categorical\",\n",
        "\ttarget_size=(256, 256),\n",
        "\tcolor_mode=\"rgb\",\n",
        "\tshuffle=False,\n",
        "\tbatch_size=BS)\n",
        "trainGen.samples"
      ],
      "id": "523027fa"
    },
    {
      "cell_type": "code",
      "execution_count": null,
      "metadata": {
        "colab": {
          "base_uri": "https://localhost:8080/"
        },
        "id": "b1620cd3",
        "outputId": "eb1bcba0-26d8-48ed-b1c8-adb122879d57"
      },
      "outputs": [
        {
          "name": "stdout",
          "output_type": "stream",
          "text": [
            "Downloading data from https://storage.googleapis.com/tensorflow/keras-applications/vgg16/vgg16_weights_tf_dim_ordering_tf_kernels_notop.h5\n",
            "58892288/58889256 [==============================] - 0s 0us/step\n",
            "58900480/58889256 [==============================] - 0s 0us/step\n",
            "Model: \"model\"\n",
            "_________________________________________________________________\n",
            " Layer (type)                Output Shape              Param #   \n",
            "=================================================================\n",
            " input_1 (InputLayer)        [(None, 224, 224, 3)]     0         \n",
            "                                                                 \n",
            " block1_conv1 (Conv2D)       (None, 224, 224, 64)      1792      \n",
            "                                                                 \n",
            " block1_conv2 (Conv2D)       (None, 224, 224, 64)      36928     \n",
            "                                                                 \n",
            " block1_pool (MaxPooling2D)  (None, 112, 112, 64)      0         \n",
            "                                                                 \n",
            " block2_conv1 (Conv2D)       (None, 112, 112, 128)     73856     \n",
            "                                                                 \n",
            " block2_conv2 (Conv2D)       (None, 112, 112, 128)     147584    \n",
            "                                                                 \n",
            " block2_pool (MaxPooling2D)  (None, 56, 56, 128)       0         \n",
            "                                                                 \n",
            " block3_conv1 (Conv2D)       (None, 56, 56, 256)       295168    \n",
            "                                                                 \n",
            " block3_conv2 (Conv2D)       (None, 56, 56, 256)       590080    \n",
            "                                                                 \n",
            " block3_conv3 (Conv2D)       (None, 56, 56, 256)       590080    \n",
            "                                                                 \n",
            " block3_pool (MaxPooling2D)  (None, 28, 28, 256)       0         \n",
            "                                                                 \n",
            " block4_conv1 (Conv2D)       (None, 28, 28, 512)       1180160   \n",
            "                                                                 \n",
            " block4_conv2 (Conv2D)       (None, 28, 28, 512)       2359808   \n",
            "                                                                 \n",
            " block4_conv3 (Conv2D)       (None, 28, 28, 512)       2359808   \n",
            "                                                                 \n",
            " block4_pool (MaxPooling2D)  (None, 14, 14, 512)       0         \n",
            "                                                                 \n",
            " block5_conv1 (Conv2D)       (None, 14, 14, 512)       2359808   \n",
            "                                                                 \n",
            " block5_conv2 (Conv2D)       (None, 14, 14, 512)       2359808   \n",
            "                                                                 \n",
            " block5_conv3 (Conv2D)       (None, 14, 14, 512)       2359808   \n",
            "                                                                 \n",
            " block5_pool (MaxPooling2D)  (None, 7, 7, 512)         0         \n",
            "                                                                 \n",
            " average_pooling2d (AverageP  (None, 1, 1, 512)        0         \n",
            " ooling2D)                                                       \n",
            "                                                                 \n",
            " flatten (Flatten)           (None, 512)               0         \n",
            "                                                                 \n",
            " dense (Dense)               (None, 256)               131328    \n",
            "                                                                 \n",
            " dropout (Dropout)           (None, 256)               0         \n",
            "                                                                 \n",
            " dense_1 (Dense)             (None, 2)                 514       \n",
            "                                                                 \n",
            "=================================================================\n",
            "Total params: 14,846,530\n",
            "Trainable params: 14,846,530\n",
            "Non-trainable params: 0\n",
            "_________________________________________________________________\n"
          ]
        }
      ],
      "source": [
        "from tensorflow.keras.applications import *\n",
        "from tensorflow.keras.layers import Flatten, Dense, Input, Dropout, GlobalAveragePooling2D,AveragePooling2D\n",
        "from tensorflow.keras.models import Model\n",
        "from tensorflow.keras.optimizers import Adam\n",
        "\n",
        "baseModel = VGG16(weights=\"imagenet\", include_top=False,\n",
        "\tinput_tensor=Input(shape=(224, 224, 3)))\n",
        "\n",
        "# construct the head of the model that will be placed on top of the\n",
        "# the base model\n",
        "headModel = baseModel.output\n",
        "headModel = AveragePooling2D(pool_size=(7, 7))(headModel)\n",
        "headModel = Flatten(name=\"flatten\")(headModel)\n",
        "headModel = Dense(256, activation=\"relu\")(headModel)\n",
        "headModel = Dropout(0.5)(headModel)\n",
        "headModel = Dense(2, activation=\"softmax\")(headModel)\n",
        "\n",
        "# place the head FC model on top of the base model (this will become\n",
        "# the actual model we will train)\n",
        "model = Model(inputs=baseModel.input, outputs=headModel)\n",
        "\n",
        "# loop over all layers in the base model and freeze them so they will\n",
        "# *not* be updated during the training process\n",
        "for layer in baseModel.layers:\n",
        "\tlayer.trainable = True\n",
        "\n",
        "optimizer = Adam(0.0001)\n",
        "model.compile(loss=\"categorical_crossentropy\", optimizer=optimizer, metrics=[\"accuracy\"])\n",
        "model.summary()"
      ],
      "id": "b1620cd3"
    },
    {
      "cell_type": "code",
      "execution_count": null,
      "metadata": {
        "id": "49f07ac8"
      },
      "outputs": [],
      "source": [
        "from tensorflow.keras.callbacks import ReduceLROnPlateau\n",
        "from tensorflow.keras.callbacks import EarlyStopping\n",
        "from tensorflow.keras.callbacks import ModelCheckpoint\n",
        "\n",
        "lr_reduce = ReduceLROnPlateau(monitor='val_loss', factor=0.4, patience=3, min_lr=1e-5, mode='min', verbose=1)\n",
        "model_chkpt = ModelCheckpoint('/content/drive/MyDrive/BestModel/Park_best_vgg_new.h5',save_best_only=True, monitor='val_loss',mode='min', verbose=1)\n",
        "\n",
        "callback_list = [model_chkpt, lr_reduce]"
      ],
      "id": "49f07ac8"
    },
    {
      "cell_type": "code",
      "execution_count": null,
      "metadata": {
        "colab": {
          "background_save": true,
          "base_uri": "https://localhost:8080/"
        },
        "id": "413e72fb",
        "outputId": "338d1364-2822-45c2-bd4b-893be7c3f5cf"
      },
      "outputs": [
        {
          "name": "stdout",
          "output_type": "stream",
          "text": [
            "Epoch 1/25\n",
            " 10/107 [=>............................] - ETA: 4:01:09 - loss: 0.9856 - accuracy: 0.5094"
          ]
        },
        {
          "ename": "KeyboardInterrupt",
          "evalue": "ignored",
          "output_type": "error",
          "traceback": [
            "\u001b[0;31m---------------------------------------------------------------------------\u001b[0m",
            "\u001b[0;31mKeyboardInterrupt\u001b[0m                         Traceback (most recent call last)",
            "\u001b[0;32m<ipython-input-9-692bb482cd0e>\u001b[0m in \u001b[0;36m<module>\u001b[0;34m()\u001b[0m\n\u001b[1;32m      1\u001b[0m hist = model.fit(trainGen,\n\u001b[1;32m      2\u001b[0m           \u001b[0mvalidation_data\u001b[0m \u001b[0;34m=\u001b[0m \u001b[0mvalGen\u001b[0m\u001b[0;34m,\u001b[0m\u001b[0;34m\u001b[0m\u001b[0;34m\u001b[0m\u001b[0m\n\u001b[0;32m----> 3\u001b[0;31m           epochs=25,callbacks=callback_list)\n\u001b[0m",
            "\u001b[0;32m/usr/local/lib/python3.7/dist-packages/keras/utils/traceback_utils.py\u001b[0m in \u001b[0;36merror_handler\u001b[0;34m(*args, **kwargs)\u001b[0m\n\u001b[1;32m     62\u001b[0m     \u001b[0mfiltered_tb\u001b[0m \u001b[0;34m=\u001b[0m \u001b[0;32mNone\u001b[0m\u001b[0;34m\u001b[0m\u001b[0;34m\u001b[0m\u001b[0m\n\u001b[1;32m     63\u001b[0m     \u001b[0;32mtry\u001b[0m\u001b[0;34m:\u001b[0m\u001b[0;34m\u001b[0m\u001b[0;34m\u001b[0m\u001b[0m\n\u001b[0;32m---> 64\u001b[0;31m       \u001b[0;32mreturn\u001b[0m \u001b[0mfn\u001b[0m\u001b[0;34m(\u001b[0m\u001b[0;34m*\u001b[0m\u001b[0margs\u001b[0m\u001b[0;34m,\u001b[0m \u001b[0;34m**\u001b[0m\u001b[0mkwargs\u001b[0m\u001b[0;34m)\u001b[0m\u001b[0;34m\u001b[0m\u001b[0;34m\u001b[0m\u001b[0m\n\u001b[0m\u001b[1;32m     65\u001b[0m     \u001b[0;32mexcept\u001b[0m \u001b[0mException\u001b[0m \u001b[0;32mas\u001b[0m \u001b[0me\u001b[0m\u001b[0;34m:\u001b[0m  \u001b[0;31m# pylint: disable=broad-except\u001b[0m\u001b[0;34m\u001b[0m\u001b[0;34m\u001b[0m\u001b[0m\n\u001b[1;32m     66\u001b[0m       \u001b[0mfiltered_tb\u001b[0m \u001b[0;34m=\u001b[0m \u001b[0m_process_traceback_frames\u001b[0m\u001b[0;34m(\u001b[0m\u001b[0me\u001b[0m\u001b[0;34m.\u001b[0m\u001b[0m__traceback__\u001b[0m\u001b[0;34m)\u001b[0m\u001b[0;34m\u001b[0m\u001b[0;34m\u001b[0m\u001b[0m\n",
            "\u001b[0;32m/usr/local/lib/python3.7/dist-packages/keras/engine/training.py\u001b[0m in \u001b[0;36mfit\u001b[0;34m(self, x, y, batch_size, epochs, verbose, callbacks, validation_split, validation_data, shuffle, class_weight, sample_weight, initial_epoch, steps_per_epoch, validation_steps, validation_batch_size, validation_freq, max_queue_size, workers, use_multiprocessing)\u001b[0m\n\u001b[1;32m   1214\u001b[0m                 _r=1):\n\u001b[1;32m   1215\u001b[0m               \u001b[0mcallbacks\u001b[0m\u001b[0;34m.\u001b[0m\u001b[0mon_train_batch_begin\u001b[0m\u001b[0;34m(\u001b[0m\u001b[0mstep\u001b[0m\u001b[0;34m)\u001b[0m\u001b[0;34m\u001b[0m\u001b[0;34m\u001b[0m\u001b[0m\n\u001b[0;32m-> 1216\u001b[0;31m               \u001b[0mtmp_logs\u001b[0m \u001b[0;34m=\u001b[0m \u001b[0mself\u001b[0m\u001b[0;34m.\u001b[0m\u001b[0mtrain_function\u001b[0m\u001b[0;34m(\u001b[0m\u001b[0miterator\u001b[0m\u001b[0;34m)\u001b[0m\u001b[0;34m\u001b[0m\u001b[0;34m\u001b[0m\u001b[0m\n\u001b[0m\u001b[1;32m   1217\u001b[0m               \u001b[0;32mif\u001b[0m \u001b[0mdata_handler\u001b[0m\u001b[0;34m.\u001b[0m\u001b[0mshould_sync\u001b[0m\u001b[0;34m:\u001b[0m\u001b[0;34m\u001b[0m\u001b[0;34m\u001b[0m\u001b[0m\n\u001b[1;32m   1218\u001b[0m                 \u001b[0mcontext\u001b[0m\u001b[0;34m.\u001b[0m\u001b[0masync_wait\u001b[0m\u001b[0;34m(\u001b[0m\u001b[0;34m)\u001b[0m\u001b[0;34m\u001b[0m\u001b[0;34m\u001b[0m\u001b[0m\n",
            "\u001b[0;32m/usr/local/lib/python3.7/dist-packages/tensorflow/python/util/traceback_utils.py\u001b[0m in \u001b[0;36merror_handler\u001b[0;34m(*args, **kwargs)\u001b[0m\n\u001b[1;32m    148\u001b[0m     \u001b[0mfiltered_tb\u001b[0m \u001b[0;34m=\u001b[0m \u001b[0;32mNone\u001b[0m\u001b[0;34m\u001b[0m\u001b[0;34m\u001b[0m\u001b[0m\n\u001b[1;32m    149\u001b[0m     \u001b[0;32mtry\u001b[0m\u001b[0;34m:\u001b[0m\u001b[0;34m\u001b[0m\u001b[0;34m\u001b[0m\u001b[0m\n\u001b[0;32m--> 150\u001b[0;31m       \u001b[0;32mreturn\u001b[0m \u001b[0mfn\u001b[0m\u001b[0;34m(\u001b[0m\u001b[0;34m*\u001b[0m\u001b[0margs\u001b[0m\u001b[0;34m,\u001b[0m \u001b[0;34m**\u001b[0m\u001b[0mkwargs\u001b[0m\u001b[0;34m)\u001b[0m\u001b[0;34m\u001b[0m\u001b[0;34m\u001b[0m\u001b[0m\n\u001b[0m\u001b[1;32m    151\u001b[0m     \u001b[0;32mexcept\u001b[0m \u001b[0mException\u001b[0m \u001b[0;32mas\u001b[0m \u001b[0me\u001b[0m\u001b[0;34m:\u001b[0m\u001b[0;34m\u001b[0m\u001b[0;34m\u001b[0m\u001b[0m\n\u001b[1;32m    152\u001b[0m       \u001b[0mfiltered_tb\u001b[0m \u001b[0;34m=\u001b[0m \u001b[0m_process_traceback_frames\u001b[0m\u001b[0;34m(\u001b[0m\u001b[0me\u001b[0m\u001b[0;34m.\u001b[0m\u001b[0m__traceback__\u001b[0m\u001b[0;34m)\u001b[0m\u001b[0;34m\u001b[0m\u001b[0;34m\u001b[0m\u001b[0m\n",
            "\u001b[0;32m/usr/local/lib/python3.7/dist-packages/tensorflow/python/eager/def_function.py\u001b[0m in \u001b[0;36m__call__\u001b[0;34m(self, *args, **kwds)\u001b[0m\n\u001b[1;32m    908\u001b[0m \u001b[0;34m\u001b[0m\u001b[0m\n\u001b[1;32m    909\u001b[0m       \u001b[0;32mwith\u001b[0m \u001b[0mOptionalXlaContext\u001b[0m\u001b[0;34m(\u001b[0m\u001b[0mself\u001b[0m\u001b[0;34m.\u001b[0m\u001b[0m_jit_compile\u001b[0m\u001b[0;34m)\u001b[0m\u001b[0;34m:\u001b[0m\u001b[0;34m\u001b[0m\u001b[0;34m\u001b[0m\u001b[0m\n\u001b[0;32m--> 910\u001b[0;31m         \u001b[0mresult\u001b[0m \u001b[0;34m=\u001b[0m \u001b[0mself\u001b[0m\u001b[0;34m.\u001b[0m\u001b[0m_call\u001b[0m\u001b[0;34m(\u001b[0m\u001b[0;34m*\u001b[0m\u001b[0margs\u001b[0m\u001b[0;34m,\u001b[0m \u001b[0;34m**\u001b[0m\u001b[0mkwds\u001b[0m\u001b[0;34m)\u001b[0m\u001b[0;34m\u001b[0m\u001b[0;34m\u001b[0m\u001b[0m\n\u001b[0m\u001b[1;32m    911\u001b[0m \u001b[0;34m\u001b[0m\u001b[0m\n\u001b[1;32m    912\u001b[0m       \u001b[0mnew_tracing_count\u001b[0m \u001b[0;34m=\u001b[0m \u001b[0mself\u001b[0m\u001b[0;34m.\u001b[0m\u001b[0mexperimental_get_tracing_count\u001b[0m\u001b[0;34m(\u001b[0m\u001b[0;34m)\u001b[0m\u001b[0;34m\u001b[0m\u001b[0;34m\u001b[0m\u001b[0m\n",
            "\u001b[0;32m/usr/local/lib/python3.7/dist-packages/tensorflow/python/eager/def_function.py\u001b[0m in \u001b[0;36m_call\u001b[0;34m(self, *args, **kwds)\u001b[0m\n\u001b[1;32m    940\u001b[0m       \u001b[0;31m# In this case we have created variables on the first call, so we run the\u001b[0m\u001b[0;34m\u001b[0m\u001b[0;34m\u001b[0m\u001b[0;34m\u001b[0m\u001b[0m\n\u001b[1;32m    941\u001b[0m       \u001b[0;31m# defunned version which is guaranteed to never create variables.\u001b[0m\u001b[0;34m\u001b[0m\u001b[0;34m\u001b[0m\u001b[0;34m\u001b[0m\u001b[0m\n\u001b[0;32m--> 942\u001b[0;31m       \u001b[0;32mreturn\u001b[0m \u001b[0mself\u001b[0m\u001b[0;34m.\u001b[0m\u001b[0m_stateless_fn\u001b[0m\u001b[0;34m(\u001b[0m\u001b[0;34m*\u001b[0m\u001b[0margs\u001b[0m\u001b[0;34m,\u001b[0m \u001b[0;34m**\u001b[0m\u001b[0mkwds\u001b[0m\u001b[0;34m)\u001b[0m  \u001b[0;31m# pylint: disable=not-callable\u001b[0m\u001b[0;34m\u001b[0m\u001b[0;34m\u001b[0m\u001b[0m\n\u001b[0m\u001b[1;32m    943\u001b[0m     \u001b[0;32melif\u001b[0m \u001b[0mself\u001b[0m\u001b[0;34m.\u001b[0m\u001b[0m_stateful_fn\u001b[0m \u001b[0;32mis\u001b[0m \u001b[0;32mnot\u001b[0m \u001b[0;32mNone\u001b[0m\u001b[0;34m:\u001b[0m\u001b[0;34m\u001b[0m\u001b[0;34m\u001b[0m\u001b[0m\n\u001b[1;32m    944\u001b[0m       \u001b[0;31m# Release the lock early so that multiple threads can perform the call\u001b[0m\u001b[0;34m\u001b[0m\u001b[0;34m\u001b[0m\u001b[0;34m\u001b[0m\u001b[0m\n",
            "\u001b[0;32m/usr/local/lib/python3.7/dist-packages/tensorflow/python/eager/function.py\u001b[0m in \u001b[0;36m__call__\u001b[0;34m(self, *args, **kwargs)\u001b[0m\n\u001b[1;32m   3129\u001b[0m        filtered_flat_args) = self._maybe_define_function(args, kwargs)\n\u001b[1;32m   3130\u001b[0m     return graph_function._call_flat(\n\u001b[0;32m-> 3131\u001b[0;31m         filtered_flat_args, captured_inputs=graph_function.captured_inputs)  # pylint: disable=protected-access\n\u001b[0m\u001b[1;32m   3132\u001b[0m \u001b[0;34m\u001b[0m\u001b[0m\n\u001b[1;32m   3133\u001b[0m   \u001b[0;34m@\u001b[0m\u001b[0mproperty\u001b[0m\u001b[0;34m\u001b[0m\u001b[0;34m\u001b[0m\u001b[0m\n",
            "\u001b[0;32m/usr/local/lib/python3.7/dist-packages/tensorflow/python/eager/function.py\u001b[0m in \u001b[0;36m_call_flat\u001b[0;34m(self, args, captured_inputs, cancellation_manager)\u001b[0m\n\u001b[1;32m   1958\u001b[0m       \u001b[0;31m# No tape is watching; skip to running the function.\u001b[0m\u001b[0;34m\u001b[0m\u001b[0;34m\u001b[0m\u001b[0;34m\u001b[0m\u001b[0m\n\u001b[1;32m   1959\u001b[0m       return self._build_call_outputs(self._inference_function.call(\n\u001b[0;32m-> 1960\u001b[0;31m           ctx, args, cancellation_manager=cancellation_manager))\n\u001b[0m\u001b[1;32m   1961\u001b[0m     forward_backward = self._select_forward_and_backward_functions(\n\u001b[1;32m   1962\u001b[0m         \u001b[0margs\u001b[0m\u001b[0;34m,\u001b[0m\u001b[0;34m\u001b[0m\u001b[0;34m\u001b[0m\u001b[0m\n",
            "\u001b[0;32m/usr/local/lib/python3.7/dist-packages/tensorflow/python/eager/function.py\u001b[0m in \u001b[0;36mcall\u001b[0;34m(self, ctx, args, cancellation_manager)\u001b[0m\n\u001b[1;32m    601\u001b[0m               \u001b[0minputs\u001b[0m\u001b[0;34m=\u001b[0m\u001b[0margs\u001b[0m\u001b[0;34m,\u001b[0m\u001b[0;34m\u001b[0m\u001b[0;34m\u001b[0m\u001b[0m\n\u001b[1;32m    602\u001b[0m               \u001b[0mattrs\u001b[0m\u001b[0;34m=\u001b[0m\u001b[0mattrs\u001b[0m\u001b[0;34m,\u001b[0m\u001b[0;34m\u001b[0m\u001b[0;34m\u001b[0m\u001b[0m\n\u001b[0;32m--> 603\u001b[0;31m               ctx=ctx)\n\u001b[0m\u001b[1;32m    604\u001b[0m         \u001b[0;32melse\u001b[0m\u001b[0;34m:\u001b[0m\u001b[0;34m\u001b[0m\u001b[0;34m\u001b[0m\u001b[0m\n\u001b[1;32m    605\u001b[0m           outputs = execute.execute_with_cancellation(\n",
            "\u001b[0;32m/usr/local/lib/python3.7/dist-packages/tensorflow/python/eager/execute.py\u001b[0m in \u001b[0;36mquick_execute\u001b[0;34m(op_name, num_outputs, inputs, attrs, ctx, name)\u001b[0m\n\u001b[1;32m     57\u001b[0m     \u001b[0mctx\u001b[0m\u001b[0;34m.\u001b[0m\u001b[0mensure_initialized\u001b[0m\u001b[0;34m(\u001b[0m\u001b[0;34m)\u001b[0m\u001b[0;34m\u001b[0m\u001b[0;34m\u001b[0m\u001b[0m\n\u001b[1;32m     58\u001b[0m     tensors = pywrap_tfe.TFE_Py_Execute(ctx._handle, device_name, op_name,\n\u001b[0;32m---> 59\u001b[0;31m                                         inputs, attrs, num_outputs)\n\u001b[0m\u001b[1;32m     60\u001b[0m   \u001b[0;32mexcept\u001b[0m \u001b[0mcore\u001b[0m\u001b[0;34m.\u001b[0m\u001b[0m_NotOkStatusException\u001b[0m \u001b[0;32mas\u001b[0m \u001b[0me\u001b[0m\u001b[0;34m:\u001b[0m\u001b[0;34m\u001b[0m\u001b[0;34m\u001b[0m\u001b[0m\n\u001b[1;32m     61\u001b[0m     \u001b[0;32mif\u001b[0m \u001b[0mname\u001b[0m \u001b[0;32mis\u001b[0m \u001b[0;32mnot\u001b[0m \u001b[0;32mNone\u001b[0m\u001b[0;34m:\u001b[0m\u001b[0;34m\u001b[0m\u001b[0;34m\u001b[0m\u001b[0m\n",
            "\u001b[0;31mKeyboardInterrupt\u001b[0m: "
          ]
        }
      ],
      "source": [
        "hist = model.fit(trainGen,\n",
        "          validation_data = valGen,\n",
        "          epochs=25,callbacks=callback_list)"
      ],
      "id": "413e72fb"
    },
    {
      "cell_type": "code",
      "execution_count": null,
      "metadata": {
        "id": "o18HcEUyk7ws"
      },
      "outputs": [],
      "source": [
        ""
      ],
      "id": "o18HcEUyk7ws"
    },
    {
      "cell_type": "code",
      "execution_count": null,
      "metadata": {
        "colab": {
          "base_uri": "https://localhost:8080/"
        },
        "id": "3859af0e",
        "outputId": "0f6557d2-120e-4acb-f7c0-4ea974076a9e"
      },
      "outputs": [
        {
          "name": "stdout",
          "output_type": "stream",
          "text": [
            "19/19 [==============================] - 11s 547ms/step - loss: 0.3468 - accuracy: 0.8512\n",
            "Restored model, accuracy: 85.12%\n"
          ]
        }
      ],
      "source": [
        "bestmodel = model.load_weights('/content/drive/MyDrive/BestModel/Park_best_vgg.h5')\n",
        "loss, acc = model.evaluate(valGen)\n",
        "print(\"Restored model, accuracy: {:5.2f}%\".format(100 * acc))"
      ],
      "id": "3859af0e"
    },
    {
      "cell_type": "code",
      "execution_count": null,
      "metadata": {
        "colab": {
          "base_uri": "https://localhost:8080/"
        },
        "id": "2b92d42f",
        "outputId": "b759a75f-06d5-49fb-d777-67b8af342eed"
      },
      "outputs": [
        {
          "name": "stdout",
          "output_type": "stream",
          "text": [
            "Epoch 1/5\n",
            "107/107 [==============================] - ETA: 0s - loss: 0.3725 - accuracy: 0.8336\n",
            "Epoch 00001: val_loss improved from 0.34682 to 0.33959, saving model to /content/drive/MyDrive/BestModel/Park_best_vgg.h5\n",
            "107/107 [==============================] - 237s 2s/step - loss: 0.3725 - accuracy: 0.8336 - val_loss: 0.3396 - val_accuracy: 0.8554 - lr: 4.0000e-05\n",
            "Epoch 2/5\n",
            "107/107 [==============================] - ETA: 0s - loss: 0.3387 - accuracy: 0.8518\n",
            "Epoch 00002: val_loss did not improve from 0.33959\n",
            "107/107 [==============================] - 224s 2s/step - loss: 0.3387 - accuracy: 0.8518 - val_loss: 0.3688 - val_accuracy: 0.8421 - lr: 4.0000e-05\n",
            "Epoch 3/5\n",
            "107/107 [==============================] - ETA: 0s - loss: 0.3229 - accuracy: 0.8560\n",
            "Epoch 00003: val_loss did not improve from 0.33959\n",
            "107/107 [==============================] - 224s 2s/step - loss: 0.3229 - accuracy: 0.8560 - val_loss: 0.3440 - val_accuracy: 0.8603 - lr: 4.0000e-05\n",
            "Epoch 4/5\n",
            "107/107 [==============================] - ETA: 0s - loss: 0.2865 - accuracy: 0.8782\n",
            "Epoch 00004: val_loss improved from 0.33959 to 0.28538, saving model to /content/drive/MyDrive/BestModel/Park_best_vgg.h5\n",
            "107/107 [==============================] - 227s 2s/step - loss: 0.2865 - accuracy: 0.8782 - val_loss: 0.2854 - val_accuracy: 0.8919 - lr: 4.0000e-05\n",
            "Epoch 5/5\n",
            "107/107 [==============================] - ETA: 0s - loss: 0.2596 - accuracy: 0.8884\n",
            "Epoch 00005: val_loss improved from 0.28538 to 0.28332, saving model to /content/drive/MyDrive/BestModel/Park_best_vgg.h5\n",
            "107/107 [==============================] - 227s 2s/step - loss: 0.2596 - accuracy: 0.8884 - val_loss: 0.2833 - val_accuracy: 0.8861 - lr: 4.0000e-05\n"
          ]
        },
        {
          "data": {
            "text/plain": [
              "<keras.callbacks.History at 0x7f8cd0426090>"
            ]
          },
          "execution_count": 13,
          "metadata": {},
          "output_type": "execute_result"
        }
      ],
      "source": [
        "model.fit(trainGen,\n",
        "          validation_data = valGen,\n",
        "          epochs=5,callbacks=callback_list)"
      ],
      "id": "2b92d42f"
    },
    {
      "cell_type": "code",
      "execution_count": null,
      "metadata": {
        "colab": {
          "base_uri": "https://localhost:8080/"
        },
        "id": "UtiY2MA7UfL9",
        "outputId": "448f6bf9-7e18-4cbc-99b6-8a2e577a2c5d"
      },
      "outputs": [
        {
          "name": "stdout",
          "output_type": "stream",
          "text": [
            "19/19 [==============================] - 11s 544ms/step - loss: 0.2833 - accuracy: 0.8861\n",
            "Restored model, accuracy: 88.61%\n"
          ]
        }
      ],
      "source": [
        "bestmodel = model.load_weights('/content/drive/MyDrive/BestModel/Park_best_vgg.h5')\n",
        "loss, acc = model.evaluate(valGen)\n",
        "print(\"Restored model, accuracy: {:5.2f}%\".format(100 * acc))"
      ],
      "id": "UtiY2MA7UfL9"
    },
    {
      "cell_type": "code",
      "execution_count": null,
      "metadata": {
        "id": "da2edf3f"
      },
      "outputs": [],
      "source": [
        "# valGen.reset()\n",
        "# model.evaluate(valGen)"
      ],
      "id": "da2edf3f"
    },
    {
      "cell_type": "code",
      "execution_count": null,
      "metadata": {
        "id": "AZG34RYAz6ae"
      },
      "outputs": [],
      "source": [
        "model.fit(trainGen,\n",
        "          validation_data = valGen,\n",
        "          epochs=1,callbacks=callback_list)"
      ],
      "id": "AZG34RYAz6ae"
    },
    {
      "cell_type": "code",
      "execution_count": null,
      "metadata": {
        "id": "Zb-377XoL9JY"
      },
      "outputs": [],
      "source": [
        ""
      ],
      "id": "Zb-377XoL9JY"
    },
    {
      "cell_type": "markdown",
      "metadata": {
        "id": "amFURRPaMMhu"
      },
      "source": [
        "#EVALUATION "
      ],
      "id": "amFURRPaMMhu"
    },
    {
      "cell_type": "code",
      "execution_count": null,
      "metadata": {
        "id": "kQvtfp7yNRan"
      },
      "outputs": [],
      "source": [
        "\n",
        "model = keras.models.load_model('/content/drive/MyDrive/BestModel/Park_best_vgg.h5')"
      ],
      "id": "kQvtfp7yNRan"
    },
    {
      "cell_type": "code",
      "execution_count": null,
      "metadata": {
        "id": "13Mo-znNL9bg"
      },
      "outputs": [],
      "source": [
        "from tensorflow.keras.optimizers import Adam\n",
        "from keras import backend as K\n",
        "def sensitivity(y_true, y_pred):\n",
        "    true_positives = K.sum(K.round(K.clip(y_true * y_pred, 0, 1)))\n",
        "    possible_positives = K.sum(K.round(K.clip(y_true, 0, 1)))\n",
        "    return true_positives / (possible_positives + K.epsilon())\n",
        "\n",
        "def specificity(y_true, y_pred):\n",
        "    true_negatives = K.sum(K.round(K.clip((1-y_true) * (1-y_pred), 0, 1)))\n",
        "    possible_negatives = K.sum(K.round(K.clip(1-y_true, 0, 1)))\n",
        "    return true_negatives / (possible_negatives + K.epsilon())\n",
        "\n",
        "optimizer = Adam(0.0001)\n",
        "model.compile(loss=\"categorical_crossentropy\", optimizer=optimizer, metrics=[\"accuracy\",sensitivity,specificity])"
      ],
      "id": "13Mo-znNL9bg"
    },
    {
      "cell_type": "code",
      "execution_count": null,
      "metadata": {
        "colab": {
          "base_uri": "https://localhost:8080/"
        },
        "id": "nj2dHBhUL9fy",
        "outputId": "0815ad6b-649a-49df-d0fd-7fbfc53da716"
      },
      "outputs": [
        {
          "name": "stdout",
          "output_type": "stream",
          "text": [
            "19/19 [==============================] - 143s 7s/step - loss: 0.2833 - accuracy: 0.8861 - sensitivity: 0.8846 - specificity: 0.8846\n",
            "Restored model, accuracy: 88.61%\n"
          ]
        }
      ],
      "source": [
        "bestmodel = model.load_weights('/content/drive/MyDrive/BestModel/Park_best_vgg.h5')\n",
        "loss, acc, sen, spec= model.evaluate(valGen)\n",
        "print(\"Restored model, accuracy: {:5.2f}%\".format(100 * acc))"
      ],
      "id": "nj2dHBhUL9fy"
    },
    {
      "cell_type": "code",
      "execution_count": null,
      "metadata": {
        "colab": {
          "base_uri": "https://localhost:8080/"
        },
        "id": "ohbVKK1MQoq8",
        "outputId": "752bc8ae-e8df-483d-e2e6-37b2de0ea386"
      },
      "outputs": [
        {
          "name": "stdout",
          "output_type": "stream",
          "text": [
            "              precision    recall  f1-score   support\n",
            "\n",
            "    HC_gauss       0.85      0.94      0.89       611\n",
            "    PD_gauss       0.93      0.83      0.88       592\n",
            "\n",
            "    accuracy                           0.89      1203\n",
            "   macro avg       0.89      0.89      0.89      1203\n",
            "weighted avg       0.89      0.89      0.89      1203\n",
            "\n"
          ]
        }
      ],
      "source": [
        "from sklearn.metrics import classification_report, confusion_matrix\n",
        "\n",
        "predIdxs = model.predict(valGen)\n",
        "predIdxs = np.argmax(predIdxs, axis=1)\n",
        "\n",
        "print(classification_report(valGen.classes, predIdxs, target_names=valGen.class_indices.keys()))"
      ],
      "id": "ohbVKK1MQoq8"
    },
    {
      "cell_type": "code",
      "execution_count": null,
      "metadata": {
        "colab": {
          "base_uri": "https://localhost:8080/",
          "height": 279
        },
        "id": "EDMHZ2_cQo1K",
        "outputId": "35c94387-6646-4e02-e852-4291ae660f62"
      },
      "outputs": [
        {
          "data": {
            "image/png": "[encoded data removed]",
            "text/plain": [
              "<Figure size 432x288 with 2 Axes>"
            ]
          },
          "metadata": {},
          "output_type": "display_data"
        }
      ],
      "source": [
        "from sklearn.metrics import ConfusionMatrixDisplay\n",
        "from sklearn.metrics import confusion_matrix\n",
        "import matplotlib.pyplot as plt\n",
        "import numpy as np\n",
        "\n",
        "cm = confusion_matrix(valGen.classes, predIdxs)\n",
        "labels= [\"HC\", \"PD\"]\n",
        "\n",
        "disp = ConfusionMatrixDisplay(confusion_matrix=cm, display_labels=labels)\n",
        "\n",
        "disp.plot(cmap=plt.cm.Blues)\n",
        "plt.show()\n"
      ],
      "id": "EDMHZ2_cQo1K"
    },
    {
      "cell_type": "markdown",
      "metadata": {
        "id": "1x1NdKwJ7TCj"
      },
      "source": [
        "## **EVALUATION ON TEST SET**"
      ],
      "id": "1x1NdKwJ7TCj"
    },
    {
      "cell_type": "code",
      "execution_count": null,
      "metadata": {
        "id": "GB8DGMGZ7rAU"
      },
      "outputs": [],
      "source": [
        "from keras.models import load_model\n",
        "from sklearn.metrics import accuracy_score\n",
        "import pandas as pd\n",
        "import numpy as np\n",
        "import matplotlib.pyplot as plt"
      ],
      "id": "GB8DGMGZ7rAU"
    },
    {
      "cell_type": "code",
      "execution_count": null,
      "metadata": {
        "colab": {
          "base_uri": "https://localhost:8080/"
        },
        "id": "oUzgwaJD7Xyf",
        "outputId": "8939e88f-3965-4bd5-fc26-0cb9decb905a"
      },
      "outputs": [
        {
          "name": "stdout",
          "output_type": "stream",
          "text": [
            "Found 1203 images belonging to 2 classes.\n"
          ]
        }
      ],
      "source": [
        "TEST_PATH = \"/content/drive/MyDrive/Park_gauss_resnet_testset/testing/\"\n",
        "\n",
        "from tensorflow.keras.preprocessing.image import ImageDataGenerator\n",
        "\n",
        "testAug = ImageDataGenerator()\n",
        "\n",
        "BS=64\n",
        "\n",
        "testGen = testAug.flow_from_directory(\n",
        "\tTEST_PATH,\n",
        "\tclass_mode=\"categorical\",\n",
        "\ttarget_size=(256, 256),\n",
        "\tcolor_mode=\"rgb\",\n",
        "\tshuffle=False,\n",
        "\tbatch_size=BS)"
      ],
      "id": "oUzgwaJD7Xyf"
    },
    {
      "cell_type": "code",
      "execution_count": null,
      "metadata": {
        "id": "10hiRUHP7iZW"
      },
      "outputs": [],
      "source": [
        "model = load_model(\"/content/drive/MyDrive/BestModel/Park_best_vgg.h5\")"
      ],
      "id": "10hiRUHP7iZW"
    },
    {
      "cell_type": "code",
      "execution_count": null,
      "metadata": {
        "colab": {
          "base_uri": "https://localhost:8080/"
        },
        "id": "5HgVJ3lD7uYp",
        "outputId": "7ef42a19-48d3-4f56-a88a-58579e1cbbda"
      },
      "outputs": [
        {
          "name": "stdout",
          "output_type": "stream",
          "text": [
            "              precision    recall  f1-score   support\n",
            "\n",
            "    HC_gauss       0.87      0.94      0.90       589\n",
            "    PD_gauss       0.94      0.87      0.90       614\n",
            "\n",
            "    accuracy                           0.90      1203\n",
            "   macro avg       0.90      0.90      0.90      1203\n",
            "weighted avg       0.90      0.90      0.90      1203\n",
            "\n"
          ]
        }
      ],
      "source": [
        "from sklearn.metrics import classification_report, confusion_matrix\n",
        "\n",
        "predIdxs = model.predict(testGen)\n",
        "predIdxs = np.argmax(predIdxs, axis=1)\n",
        "\n",
        "print(classification_report(testGen.classes, predIdxs, target_names=testGen.class_indices.keys()))"
      ],
      "id": "5HgVJ3lD7uYp"
    },
    {
      "cell_type": "code",
      "execution_count": null,
      "metadata": {
        "colab": {
          "base_uri": "https://localhost:8080/",
          "height": 483
        },
        "id": "zyRYob7F726q",
        "outputId": "543063fe-27bc-4945-ca9f-4293075c1e18"
      },
      "outputs": [
        {
          "data": {
            "text/plain": [
              "<sklearn.metrics._plot.confusion_matrix.ConfusionMatrixDisplay at 0x7f82a007e610>"
            ]
          },
          "execution_count": 9,
          "metadata": {},
          "output_type": "execute_result"
        },
        {
          "data": {
            "image/png": "[encoded data removed]",
            "text/plain": [
              "<Figure size 576x576 with 2 Axes>"
            ]
          },
          "metadata": {},
          "output_type": "display_data"
        }
      ],
      "source": [
        "from sklearn.metrics import ConfusionMatrixDisplay\n",
        "from sklearn.metrics import confusion_matrix\n",
        "import matplotlib.pyplot as plt\n",
        "import numpy as np\n",
        "\n",
        "cm = confusion_matrix(testGen.classes, predIdxs)\n",
        "labels= [\"HC\", \"PD\"]\n",
        "\n",
        "disp = ConfusionMatrixDisplay(confusion_matrix=cm, display_labels=labels)\n",
        "\n",
        "fig, ax = plt.subplots(figsize=(8,8))\n",
        "disp.plot(ax=ax,cmap=plt.cm.Blues)"
      ],
      "id": "zyRYob7F726q"
    }
  ],
  "metadata": {
    "accelerator": "GPU",
    "colab": {
      "name": "Parkinson_vgg.ipynb",
      "provenance": []
    },
    "kernelspec": {
      "display_name": "Python 3",
      "language": "python",
      "name": "python3"
    },
    "language_info": {
      "codemirror_mode": {
        "name": "ipython",
        "version": 3
      },
      "file_extension": ".py",
      "mimetype": "text/x-python",
      "name": "python",
      "nbconvert_exporter": "python",
      "pygments_lexer": "ipython3",
      "version": "3.8.8"
    }
  },
  "nbformat": 4,
  "nbformat_minor": 5
}